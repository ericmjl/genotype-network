{
 "cells": [
  {
   "cell_type": "code",
   "execution_count": 2,
   "metadata": {
    "collapsed": false
   },
   "outputs": [],
   "source": [
    "from Bio import SeqIO\n",
    "from itertools import combinations\n",
    "import distance\n",
    "import networkx as nx\n",
    "\n",
    "import matplotlib.pyplot as plt\n",
    "%matplotlib inline\n",
    "#TO DO: Make a network of ~20 sequences (2012-14) from the website and learn about test-driven development"
   ]
  },
  {
   "cell_type": "code",
   "execution_count": 6,
   "metadata": {
    "collapsed": false
   },
   "outputs": [
    {
     "name": "stdout",
     "output_type": "stream",
     "text": [
      "gb:AJ457884|gi:22859285|UniProtKB:Q8AZF1|Organism:Influenza\n",
      "length = 329\n",
      "gb:AJ457885|gi:22859285|UniProtKB:Q8AZF1|Organism:Influenza\n",
      "length = 329\n",
      "gb:AJ457886|gi:22859285|UniProtKB:Q8AZF1|Organism:Influenza\n",
      "length = 329\n",
      "\n",
      "Sequence 1 = DTICIGYHANNSTDTVDTVLEKNVTVTHSVNLLENSHNGKLCLLKGIAPLQLGNCSVAGWILGNPECELLISKESWSYIVETPNPENGTCYPGYFADYEELREQLSSVSSFERFEIFPKESSWPNHTVTGVSASCSHNGKSSFYRNLLWLTGKNGLYPNLSKSYVNNKEKEVLVLWGVHHPPNIGDQRALYHTENAYVSVVSSHYSRRFTPEIAKRPKVRDQEGRINYYWTLLEPGDTIIFEANGNLIAPWYAFALSRGFGSGIITSNAPMDECDAKCQTPQGAINSSLPFQNVHPVTIGECPKYVRSAKLRMVTGLRNIPSIQSRGLF\n",
      "Sequence 2 = DTICIGYHANNSTDTVKTVLEKNVTVTHSVNLLENSHNGKLCLLKGIAPLQLGNCSVAGWILGNPECELLISKESWSYIVETPNPENGTCYPGYFADYEELREQLSSVSSFERFEIFPKESSWPNHTVTGVSASCSHNGKSSFYRNLLWLTGKNGLYPNLSKSYVNNKEKEVLVLWGVHHPPNIGDQRALYHTENAYVSVVSSHYSRRFTPEIAKRPKVRDQEGRINYYWTLLEPGDTIIFEANGNLIAPWYAFALSRGFGSGIITSNAPMDECDAKCQTPQGAINSSLPFQNVHPVTIGECPKYVRSAKLRMVTGLRNIPSIQSRGLF\n",
      "Sequence 3 = DTICIGYHANNSTDTVDTVLEKNVTVTHSVNLLENSHNGKLCLLKGIAPLQLGNCSVAGWILGNPECELLISKESWSYIVERPNPENGTCYPGYFADYEELREQLSSVSSFERFEIFPKESSWPNHTVTGVSASCSHNGKSSFYRNLLWLTGKNGLYPNLSKSYVNNKEYEVLVLWGVHHPPNIGDQRALYHTENAYVSVVSSHYSRRFTPEIAKRPKVRDQEGRINYYWTLLEPGDTIIFEANGNLIAPWYAFALSRGFGSGIITSNAPMDECDAKCQTPQGAINSSLPFQNVHPVTIGECPKYVRSAKLRMVTGLRNIPSIQSRGLF\n",
      "Difference between Seq1 and Seq2 = 1\n",
      "Difference between Seq3 and Seq2 = 3\n",
      "Difference between Seq1 and Seq3 = 2\n"
     ]
    }
   ],
   "source": [
    "#Figure out how to calcuate differences in sequences\n",
    "#i=0\n",
    "#dictseq = {}\n",
    "#for seq_record in SeqIO.parse(\"test\\Demo_052715.fasta\",\"fasta\"): #For each sequence, it adds it to a dictionary dict\n",
    "    print(seq_record.id)\n",
    "    dictseq[i] = seq_record.seq\n",
    "    print(\"length = \" + str(len(seq_record)))\n",
    "    i+=1\n",
    "print(\"\")\n",
    "print(\"Sequence 1 = \"+str(dictseq[0]))\n",
    "print(\"Sequence 2 = \"+str(dictseq[1]))\n",
    "print(\"Sequence 3 = \"+str(dictseq[2]))\n",
    "print(\"Difference between Seq1 and Seq2 = \" + str(distance.levenshtein(dictseq[0],dictseq[1])))\n",
    "print(\"Difference between Seq3 and Seq2 = \" + str(distance.levenshtein(dictseq[2],dictseq[1])))\n",
    "print(\"Difference between Seq1 and Seq3 = \" + str(distance.levenshtein(dictseq[0],dictseq[2])))"
   ]
  },
  {
   "cell_type": "code",
   "execution_count": 16,
   "metadata": {
    "collapsed": false,
    "scrolled": false
   },
   "outputs": [
    {
     "data": {
      "text/plain": [
       "{'ACCG', 'ACCQ', 'ACYG'}"
      ]
     },
     "execution_count": 16,
     "metadata": {},
     "output_type": "execute_result"
    }
   ],
   "source": [
    "#Generating a test graph of 3 sample sequences\n",
    "G = nx.Graph()\n",
    "j = 1\n",
    "seq1 = 'ACCG'\n",
    "seq2 = 'ACYG'\n",
    "seq3 = 'ACCQ'\n",
    "testdict = {seq1, seq2, seq3}\n",
    "for seq in testdict: \n",
    "    G.add_node(seq)\n",
    "for seq1, seq2 in combinations(testdict,2):\n",
    "    if distance.levenshtein(seq1, seq2) == 1:\n",
    "        G.add_edge(seq1, seq2)\n",
    "G.edges()\n",
    "G.nodes()\n",
    "testdict\n",
    "#nx.draw_networkx(G, with_labels=False)"
   ]
  },
  {
   "cell_type": "code",
   "execution_count": null,
   "metadata": {
    "collapsed": false,
    "scrolled": true
   },
   "outputs": [],
   "source": [
    "#In-depth test that compares 2 specific sequences\n",
    "string1 = str(dict[1])\n",
    "string2 = str(dict[2])\n",
    "for j, letter in enumerate(string1):\n",
    "    if string1[j] != string2[j]:\n",
    "        print(j, letter, string2[j])"
   ]
  },
  {
   "cell_type": "code",
   "execution_count": 26,
   "metadata": {
    "collapsed": false
   },
   "outputs": [
    {
     "name": "stdout",
     "output_type": "stream",
     "text": [
      "gb:KJ568249|gi:602702860|UniProtKB:X2LGE8|Organism:Influenza\n",
      "length = 566\n",
      "\n",
      "gb:KJ568161|gi:602703433|UniProtKB:X2L9I3|Organism:Influenza\n",
      "length = 566\n",
      "\n",
      "gb:KJ568097|gi:602703852|UniProtKB:X2L5Q4|Organism:Influenza\n",
      "length = 566\n",
      "\n",
      "gb:KJ568033|gi:602704202|UniProtKB:X2L938|Organism:Influenza\n",
      "length = 566\n",
      "\n",
      "gb:KJ568089|gi:602703904|UniProtKB:X2LGZ3|Organism:Influenza\n",
      "length = 566\n",
      "\n",
      "gb:KJ568273|gi:602702710|UniProtKB:X2L880|Organism:Influenza\n",
      "length = 566\n",
      "\n",
      "gb:KM374034|gi:684694146|UniProtKB:A0A088PZ03|Organism:Influenza\n",
      "length = 566\n",
      "\n",
      "gb:KM359805|gi:682022888|UniProtKB:A0A088LHV6|Organism:Influenza\n",
      "length = 565\n",
      "\n",
      "gb:KM359810|gi:682022898|UniProtKB:A0A088LHW3|Organism:Influenza\n",
      "length = 565\n",
      "\n",
      "gb:LC028152|gi:758371257|Organism:Influenza\n",
      "length = 566\n",
      "\n",
      "gb:KF357821|gi:525552396|UniProtKB:A0A067XQH0|Organism:Influenza\n",
      "length = 554\n",
      "\n",
      "gb:KJ439857|gi:589912620|UniProtKB:A0A067Z8H0|Organism:Influenza\n",
      "length = 566\n",
      "\n",
      "gb:KC986390|gi:663082439|UniProtKB:A0A023HK88|Organism:Influenza\n",
      "length = 567\n",
      "\n",
      "gb:KF495997|gi:532807723|UniProtKB:T1W4F8|Organism:Influenza\n",
      "length = 292\n",
      "\n",
      "gb:KJ538149|gi:597717335|UniProtKB:X2GES3|Organism:Influenza\n",
      "length = 348\n",
      "\n",
      "gb:KF806985|gi:559147269|UniProtKB:V5P7U4|Organism:Influenza\n",
      "length = 567\n",
      "\n",
      "gb:KM374026|gi:684694175|UniProtKB:A0A088PZC8|Organism:Influenza\n",
      "length = 566\n",
      "\n",
      "gb:KM373970|gi:684694414|UniProtKB:A0A088PZ73|Organism:Influenza\n",
      "length = 566\n",
      "\n",
      "gb:KJ567961|gi:602704666|UniProtKB:X2LA96|Organism:Influenza\n",
      "length = 566\n",
      "\n",
      "gb:AB981450|gi:673536450|UniProtKB:A0A077KBM7|Organism:Influenza\n",
      "length = 552\n",
      "\n",
      "gb:LC028120|gi:758371181|Organism:Influenza\n",
      "length = 566\n",
      "\n",
      "gb:LC028128|gi:758371200|Organism:Influenza\n",
      "length = 566\n",
      "\n",
      "gb:AB916667|gi:597955052|UniProtKB:A0A060NB55|Organism:Influenza\n",
      "length = 550\n",
      "\n",
      "gb:LC028184|gi:758371328|Organism:Influenza\n",
      "length = 566\n",
      "\n",
      "gb:KJ579956|gi:607259316|UniProtKB:X5D0P3|Organism:Influenza\n",
      "length = 566\n",
      "\n",
      "gb:KR077988|gi:807071519|Organism:Influenza\n",
      "length = 566\n",
      "\n"
     ]
    },
    {
     "ename": "TypeError",
     "evalue": "object of type 'int' has no len()",
     "output_type": "error",
     "traceback": [
      "\u001b[1;31m---------------------------------------------------------------------------\u001b[0m",
      "\u001b[1;31mTypeError\u001b[0m                                 Traceback (most recent call last)",
      "\u001b[1;32m<ipython-input-26-074feecebd58>\u001b[0m in \u001b[0;36m<module>\u001b[1;34m()\u001b[0m\n\u001b[0;32m     12\u001b[0m     \u001b[0mP\u001b[0m\u001b[1;33m.\u001b[0m\u001b[0madd_node\u001b[0m\u001b[1;33m(\u001b[0m\u001b[0mseq\u001b[0m\u001b[1;33m)\u001b[0m\u001b[1;33m\u001b[0m\u001b[0m\n\u001b[0;32m     13\u001b[0m \u001b[1;32mfor\u001b[0m \u001b[0mseg1\u001b[0m\u001b[1;33m,\u001b[0m \u001b[0mseg2\u001b[0m \u001b[1;32min\u001b[0m \u001b[0mcombinations\u001b[0m\u001b[1;33m(\u001b[0m\u001b[0mdictseq\u001b[0m\u001b[1;33m,\u001b[0m \u001b[1;36m2\u001b[0m\u001b[1;33m)\u001b[0m\u001b[1;33m:\u001b[0m\u001b[1;33m\u001b[0m\u001b[0m\n\u001b[1;32m---> 14\u001b[1;33m     \u001b[1;32mif\u001b[0m \u001b[0mdistance\u001b[0m\u001b[1;33m.\u001b[0m\u001b[0mlevenshtein\u001b[0m\u001b[1;33m(\u001b[0m\u001b[0mseg1\u001b[0m\u001b[1;33m,\u001b[0m \u001b[0mseg2\u001b[0m\u001b[1;33m)\u001b[0m \u001b[1;33m==\u001b[0m \u001b[1;36m1\u001b[0m\u001b[1;33m:\u001b[0m\u001b[1;33m\u001b[0m\u001b[0m\n\u001b[0m\u001b[0;32m     15\u001b[0m         \u001b[0mP\u001b[0m\u001b[1;33m.\u001b[0m\u001b[0madd_edge\u001b[0m\u001b[1;33m(\u001b[0m\u001b[0mseg1\u001b[0m\u001b[1;33m,\u001b[0m \u001b[0mseg2\u001b[0m\u001b[1;33m)\u001b[0m\u001b[1;33m\u001b[0m\u001b[0m\n\u001b[0;32m     16\u001b[0m \u001b[0mP\u001b[0m\u001b[1;33m.\u001b[0m\u001b[0medges\u001b[0m\u001b[1;33m(\u001b[0m\u001b[1;33m)\u001b[0m\u001b[1;33m\u001b[0m\u001b[0m\n",
      "\u001b[1;32mC:\\Users\\owner\\Anaconda\\envs\\py27\\lib\\site-packages\\distance\\_levenshtein.pyc\u001b[0m in \u001b[0;36mlevenshtein\u001b[1;34m(seq1, seq2, max_dist, normalized)\u001b[0m\n\u001b[0;32m     40\u001b[0m                 \u001b[1;32mreturn\u001b[0m \u001b[1;36m0\u001b[0m\u001b[1;33m\u001b[0m\u001b[0m\n\u001b[0;32m     41\u001b[0m \u001b[1;33m\u001b[0m\u001b[0m\n\u001b[1;32m---> 42\u001b[1;33m         \u001b[0mlen1\u001b[0m\u001b[1;33m,\u001b[0m \u001b[0mlen2\u001b[0m \u001b[1;33m=\u001b[0m \u001b[0mlen\u001b[0m\u001b[1;33m(\u001b[0m\u001b[0mseq1\u001b[0m\u001b[1;33m)\u001b[0m\u001b[1;33m,\u001b[0m \u001b[0mlen\u001b[0m\u001b[1;33m(\u001b[0m\u001b[0mseq2\u001b[0m\u001b[1;33m)\u001b[0m\u001b[1;33m\u001b[0m\u001b[0m\n\u001b[0m\u001b[0;32m     43\u001b[0m         \u001b[1;32mif\u001b[0m \u001b[0mmax_dist\u001b[0m \u001b[1;33m>=\u001b[0m \u001b[1;36m0\u001b[0m \u001b[1;32mand\u001b[0m \u001b[0mabs\u001b[0m\u001b[1;33m(\u001b[0m\u001b[0mlen1\u001b[0m \u001b[1;33m-\u001b[0m \u001b[0mlen2\u001b[0m\u001b[1;33m)\u001b[0m \u001b[1;33m>\u001b[0m \u001b[0mmax_dist\u001b[0m\u001b[1;33m:\u001b[0m\u001b[1;33m\u001b[0m\u001b[0m\n\u001b[0;32m     44\u001b[0m                 \u001b[1;32mreturn\u001b[0m \u001b[1;33m-\u001b[0m\u001b[1;36m1\u001b[0m\u001b[1;33m\u001b[0m\u001b[0m\n",
      "\u001b[1;31mTypeError\u001b[0m: object of type 'int' has no len()"
     ]
    }
   ],
   "source": [
    "#Sample set of 26 sequences of HA (IAV) from 2013-15\n",
    "P = nx.Graph()\n",
    "i=0\n",
    "dictseq = {}\n",
    "for seq_record in SeqIO.parse(\"test\\H3N8 HA 2013-2015.fasta\",\"fasta\"): #For each sequence, it adds it to a dictionary dict\n",
    "    print(seq_record.id)\n",
    "    dictseq[i] = seq_record.seq\n",
    "    print(\"length = \" + str(len(seq_record)))\n",
    "    print\n",
    "    i+=1\n",
    "for seq in dictseq: \n",
    "    P.add_node(seq)\n",
    "for seq1, seq2 in combinations(dictseq, 2):\n",
    "    if distance.levenshtein(seq1, seq2) == 1:\n",
    "        P.add_edge(seq1, seq2)\n",
    "P.edges()\n",
    "P.nodes()\n",
    "nx.draw_networkx(P, with_labels=False)"
   ]
  },
  {
   "cell_type": "code",
   "execution_count": null,
   "metadata": {
    "collapsed": true
   },
   "outputs": [],
   "source": []
  }
 ],
 "metadata": {
  "kernelspec": {
   "display_name": "Python 2",
   "language": "python",
   "name": "python2"
  },
  "language_info": {
   "codemirror_mode": {
    "name": "ipython",
    "version": 2
   },
   "file_extension": ".py",
   "mimetype": "text/x-python",
   "name": "python",
   "nbconvert_exporter": "python",
   "pygments_lexer": "ipython2",
   "version": "2.7.10"
  }
 },
 "nbformat": 4,
 "nbformat_minor": 0
}
