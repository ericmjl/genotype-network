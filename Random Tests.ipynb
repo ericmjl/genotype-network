{
 "cells": [
  {
   "cell_type": "code",
   "execution_count": 2,
   "metadata": {
    "collapsed": false,
    "scrolled": true
   },
   "outputs": [],
   "source": [
    "from Bio import SeqIO\n",
    "from itertools import combinations\n",
    "import distance\n",
    "import networkx as nx\n",
    "\n",
    "\n",
    "import matplotlib.pyplot as plt\n",
    "%matplotlib inline\n",
    "#TO DO: Make a network of ~20 sequences (2012-14) from the website and learn about test-driven development"
   ]
  },
  {
   "cell_type": "code",
   "execution_count": 46,
   "metadata": {
    "collapsed": false
   },
   "outputs": [
    {
     "name": "stdout",
     "output_type": "stream",
     "text": [
      "gb:AJ457884|gi:22859285|UniProtKB:Q8AZF1|Organism:Influenza\n",
      "length = 329\n",
      "gb:AJ457885|gi:22859285|UniProtKB:Q8AZF1|Organism:Influenza\n",
      "length = 329\n",
      "gb:AJ457886|gi:22859285|UniProtKB:Q8AZF1|Organism:Influenza\n",
      "length = 329\n",
      "\n",
      "Sequence 1 = DTICIGYHANNSTDTVDTVLEKNVTVTHSVNLLENSHNGKLCLLKGIAPLQLGNCSVAGWILGNPECELLISKESWSYIVETPNPENGTCYPGYFADYEELREQLSSVSSFERFEIFPKESSWPNHTVTGVSASCSHNGKSSFYRNLLWLTGKNGLYPNLSKSYVNNKEKEVLVLWGVHHPPNIGDQRALYHTENAYVSVVSSHYSRRFTPEIAKRPKVRDQEGRINYYWTLLEPGDTIIFEANGNLIAPWYAFALSRGFGSGIITSNAPMDECDAKCQTPQGAINSSLPFQNVHPVTIGECPKYVRSAKLRMVTGLRNIPSIQSRGLF\n",
      "Sequence 2 = DTICIGYHANNSTDTVKTVLEKNVTVTHSVNLLENSHNGKLCLLKGIAPLQLGNCSVAGWILGNPECELLISKESWSYIVETPNPENGTCYPGYFADYEELREQLSSVSSFERFEIFPKESSWPNHTVTGVSASCSHNGKSSFYRNLLWLTGKNGLYPNLSKSYVNNKEKEVLVLWGVHHPPNIGDQRALYHTENAYVSVVSSHYSRRFTPEIAKRPKVRDQEGRINYYWTLLEPGDTIIFEANGNLIAPWYAFALSRGFGSGIITSNAPMDECDAKCQTPQGAINSSLPFQNVHPVTIGECPKYVRSAKLRMVTGLRNIPSIQSRGLF\n",
      "Sequence 3 = DTICIGYHANNSTDTVDTVLEKNVTVTHSVNLLENSHNGKLCLLKGIAPLQLGNCSVAGWILGNPECELLISKESWSYIVERPNPENGTCYPGYFADYEELREQLSSVSSFERFEIFPKESSWPNHTVTGVSASCSHNGKSSFYRNLLWLTGKNGLYPNLSKSYVNNKEYEVLVLWGVHHPPNIGDQRALYHTENAYVSVVSSHYSRRFTPEIAKRPKVRDQEGRINYYWTLLEPGDTIIFEANGNLIAPWYAFALSRGFGSGIITSNAPMDECDAKCQTPQGAINSSLPFQNVHPVTIGECPKYVRSAKLRMVTGLRNIPSIQSRGLF\n",
      "Difference between Seq1 and Seq2 = 1\n",
      "Difference between Seq3 and Seq2 = 3\n",
      "Difference between Seq1 and Seq3 = 2\n"
     ]
    }
   ],
   "source": [
    "#Figure out how to calcuate differences in sequences\n",
    "i=0\n",
    "#dictseq = {}\n",
    "for seq_record in SeqIO.parse(\"test\\Demo_052715.fasta\",\"fasta\"): #For each sequence, it adds it to a dictionary dict\n",
    "    print(seq_record.id)\n",
    "    dictseq[i] = seq_record.seq\n",
    "    print(\"length = \" + str(len(seq_record)))\n",
    "    i+=1\n",
    "print(\"\")\n",
    "print(\"Sequence 1 = \"+str(dictseq[0]))\n",
    "print(\"Sequence 2 = \"+str(dictseq[1]))\n",
    "print(\"Sequence 3 = \"+str(dictseq[2]))\n",
    "print(\"Difference between Seq1 and Seq2 = \" + str(distance.levenshtein(dictseq[0],dictseq[1])))\n",
    "print(\"Difference between Seq3 and Seq2 = \" + str(distance.levenshtein(dictseq[2],dictseq[1])))\n",
    "print(\"Difference between Seq1 and Seq3 = \" + str(distance.levenshtein(dictseq[0],dictseq[2])))"
   ]
  },
  {
   "cell_type": "code",
   "execution_count": 5,
   "metadata": {
    "collapsed": false,
    "scrolled": true
   },
   "outputs": [
    {
     "data": {
      "image/png": "[encoded data removed]",
      "text/plain": [
       "<matplotlib.figure.Figure at 0x14cae9e8>"
      ]
     },
     "metadata": {},
     "output_type": "display_data"
    }
   ],
   "source": [
    "#Generating a test graph of 3 sample sequences\n",
    "G = nx.Graph()\n",
    "j = 1\n",
    "seq1 = 'ACCG'\n",
    "seq2 = 'ACYG'\n",
    "seq3 = 'ACCQ'\n",
    "testdict = {seq1, seq2, seq3}\n",
    "for seq in testdict: \n",
    "    G.add_node(seq)\n",
    "for seq1, seq2 in combinations(testdict,2):\n",
    "    if distance.levenshtein(seq1, seq2) == 1:\n",
    "        G.add_edge(seq1, seq2)\n",
    "G.edges()\n",
    "G.nodes()\n",
    "G.add_node(seq1)\n",
    "nx.draw_networkx(G, with_labels=False)"
   ]
  },
  {
   "cell_type": "code",
   "execution_count": null,
   "metadata": {
    "collapsed": false,
    "scrolled": true
   },
   "outputs": [],
   "source": [
    "#In-depth test that compares 2 specific sequences\n",
    "string1 = str(dict[1])\n",
    "string2 = str(dict[2])\n",
    "for j, letter in enumerate(string1):\n",
    "    if string1[j] != string2[j]:\n",
    "        print(j, letter, string2[j])"
   ]
  },
  {
   "cell_type": "code",
   "execution_count": 44,
   "metadata": {
    "collapsed": false
   },
   "outputs": [
    {
     "data": {
      "image/png": "[encoded data removed]",
      "text/plain": [
       "<matplotlib.figure.Figure at 0x16b3fdd8>"
      ]
     },
     "metadata": {},
     "output_type": "display_data"
    }
   ],
   "source": [
    "#Sample set of 26 sequences of HA (IAV) from 2013-15\n",
    "P = nx.Graph()\n",
    "i=0\n",
    "dictseq = {}\n",
    "for seq_record in SeqIO.parse(\"test\\H3N8 HA 2013-2015.fasta\",\"fasta\"): #For each sequence, it adds it to a dictionary dict\n",
    "    #print(seq_record.id)\n",
    "    dictseq[i] = seq_record.seq\n",
    "    #print(\"length = \" + str(len(seq_record)))\n",
    "    #print\n",
    "    i+=1\n",
    "for seq in dictseq: \n",
    "    P.add_node(seq)\n",
    "    \n",
    "for seq1, seq2 in combinations(dictseq, 2):\n",
    "    if distance.levenshtein(dictseq[seq1], dictseq[seq2]) == 1:\n",
    "        P.add_edge(seq1, seq2)\n",
    "    #print(dictseq[seq1], dictseq[seq2])\n",
    "\n",
    "P.edges()\n",
    "P.nodes()\n",
    "#nx.draw_networkx(P, with_labels=True)"
   ]
  },
  {
   "cell_type": "code",
   "execution_count": 53,
   "metadata": {
    "collapsed": false
   },
   "outputs": [
    {
     "name": "stdout",
     "output_type": "stream",
     "text": [
      "0\n",
      "1\n",
      "0\n",
      "1\n",
      "2\n",
      "3\n",
      "4\n",
      "5\n"
     ]
    }
   ],
   "source": [
    "import pickle as pkl\n",
    "import math\n",
    "m_CPUs = 6\n",
    "i = 0\n",
    "print i\n",
    "master_list = [(1,2),(1,3),(1,4),(2,3),(2,4),(3,4)]\n",
    "block_size = int(math.ceil(len(master_list)/m_CPUs)) \n",
    "print block_size\n",
    "current_CPU = 0\n",
    "while(i + block_size) <= len(master_list):\n",
    "    print i\n",
    "    with open(\"pickled_lists\\CPU{0}_comparisons.pkllist\".format(current_CPU), 'w') as f:\n",
    "        pkl.dump(master_list[i:i + (block_size)], f)\n",
    "        i += (block_size)\n",
    "        current_CPU += 1"
   ]
  },
  {
   "cell_type": "code",
   "execution_count": 54,
   "metadata": {
    "collapsed": false
   },
   "outputs": [
    {
     "name": "stdout",
     "output_type": "stream",
     "text": [
      "[(1, 3)]\n"
     ]
    }
   ],
   "source": [
    "import pickle as pkl\n",
    "import math\n",
    "\n",
    "current_CPU = 1\n",
    "with open(\"pickled_lists/CPU{0}_comparisons.pkllist\".format(current_CPU),'r') as f:\n",
    "    print pkl.load(f)\n",
    "    \n",
    "    \n",
    "    "
   ]
  },
  {
   "cell_type": "code",
   "execution_count": null,
   "metadata": {
    "collapsed": true
   },
   "outputs": [],
   "source": []
  },
  {
   "cell_type": "code",
   "execution_count": null,
   "metadata": {
    "collapsed": true
   },
   "outputs": [],
   "source": []
  }
 ],
 "metadata": {
  "kernelspec": {
   "display_name": "Python 3",
   "language": "python",
   "name": "python3"
  },
  "language_info": {
   "codemirror_mode": {
    "name": "ipython",
    "version": 3
   },
   "file_extension": ".py",
   "mimetype": "text/x-python",
   "name": "python",
   "nbconvert_exporter": "python",
   "pygments_lexer": "ipython3",
   "version": "3.4.3"
  }
 },
 "nbformat": 4,
 "nbformat_minor": 0
}
